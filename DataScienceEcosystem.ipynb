{
 "cells": [
  {
   "cell_type": "markdown",
   "id": "efbb0749-95a9-4541-9759-c2165806c5bc",
   "metadata": {},
   "source": [
    "# Data Science Tools and Ecosystem"
   ]
  },
  {
   "cell_type": "markdown",
   "id": "079c1ca6-3861-4978-a45a-8db776742b06",
   "metadata": {},
   "source": [
    "## In this notebook, Data Science Tools and Ecosystem are summarized.\n",
    "In this notebook, we delve into the expansive realm of data science, offering a condensed yet insightful exploration of the tools and ecosystem that underpin this dynamic field. Whether you're a seasoned data scientist or an aspiring enthusiast, join us on a journey to uncover the essential tools and technologies shaping the landscape of modern data analysis."
   ]
  },
  {
   "cell_type": "markdown",
   "id": "8844973f-bb83-4d99-be25-a2377e9e3c33",
   "metadata": {},
   "source": [
    "## Overview\n",
    "\n",
    "## Some of the popular languages that Data Scientists use are:\n",
    "\n",
    "1. Python\n",
    "2. R\n",
    "3. SQL\n"
   ]
  },
  {
   "cell_type": "markdown",
   "id": "951e56f4-55be-47f3-ad3a-34fde5a7e260",
   "metadata": {},
   "source": [
    "## Some of the commonly used libraries used by Data Scientists include:\n",
    "\n",
    "1. NumPy\n",
    "2. Pandas\n",
    "3. Matplotlib\n",
    "4. Scikit-learn\n",
    "5. TensorFlow\n",
    "6. Keras\n",
    "7. Seaborn\n",
    "8. SciPy\n",
    "9. NLTK\n",
    "10. Statsmodels\n"
   ]
  },
  {
   "cell_type": "markdown",
   "id": "02622159-e665-41da-ba19-07d81e9fd483",
   "metadata": {},
   "source": [
    "## Data Science Tools\n",
    "\n",
    "| Data Science Tools       |\n",
    "|--------------------------|\n",
    "| Jupyter Notebook         |\n",
    "| RStudio                  |\n",
    "| Spyder                   |\n",
    "| VS Code                  |\n",
    "| PyCharm                  |\n",
    "| Atom                     |\n"
   ]
  },
  {
   "cell_type": "markdown",
   "id": "97d9ce68-b59c-4914-9e91-6d6e75ae018c",
   "metadata": {},
   "source": [
    "## Below are a few examples of evaluating arithmetic expressions in Python."
   ]
  },
  {
   "cell_type": "code",
   "execution_count": 1,
   "id": "4c64b4f1-9ad0-407f-8f89-5825e961638c",
   "metadata": {
    "tags": []
   },
   "outputs": [
    {
     "name": "stdout",
     "output_type": "stream",
     "text": [
      "Addition: 15\n",
      "Subtraction: 12\n",
      "Multiplication: 24\n",
      "Division: 6.0\n",
      "Exponentiation: 8\n"
     ]
    }
   ],
   "source": [
    "# Addition\n",
    "result_addition = 10 + 5\n",
    "print(\"Addition:\", result_addition)\n",
    "\n",
    "# Subtraction\n",
    "result_subtraction = 20 - 8\n",
    "print(\"Subtraction:\", result_subtraction)\n",
    "\n",
    "# Multiplication\n",
    "result_multiplication = 4 * 6\n",
    "print(\"Multiplication:\", result_multiplication)\n",
    "\n",
    "# Division\n",
    "result_division = 30 / 5\n",
    "print(\"Division:\", result_division)\n",
    "\n",
    "# Exponentiation\n",
    "result_exponentiation = 2 ** 3\n",
    "print(\"Exponentiation:\", result_exponentiation)\n"
   ]
  },
  {
   "cell_type": "code",
   "execution_count": 2,
   "id": "42d1d748-8d88-4f6f-b43d-f29f57489b59",
   "metadata": {
    "tags": []
   },
   "outputs": [
    {
     "name": "stdout",
     "output_type": "stream",
     "text": [
      "17\n"
     ]
    }
   ],
   "source": [
    "# This is a simple arithmetic expression to multiply then add integers.\n",
    "result = (3 * 4) + 5\n",
    "print(result)\n"
   ]
  },
  {
   "cell_type": "code",
   "execution_count": 3,
   "id": "6384331a-47e7-4649-953d-90239212dd63",
   "metadata": {
    "tags": []
   },
   "outputs": [
    {
     "name": "stdout",
     "output_type": "stream",
     "text": [
      "3.3333333333333335\n"
     ]
    }
   ],
   "source": [
    "# This will convert 200 minutes to hours by dividing by 60.\n",
    "hours = 200 / 60\n",
    "print(hours)\n"
   ]
  },
  {
   "cell_type": "markdown",
   "id": "de90804d-2d53-44c8-b841-ddcd22112b04",
   "metadata": {},
   "source": [
    "**Objectives:**\n",
    "\n",
    "- List popular languages for Data Science.\n",
    "- Identify commonly used libraries in Data Science.\n",
    "- Explore development environment open source tools used in Data Science.\n",
    "- Evaluate arithmetic expressions in Python.\n",
    "- Convert units of time in Python.\n",
    "\n"
   ]
  },
  {
   "cell_type": "markdown",
   "id": "bdf41c6b-4d3e-4273-a981-ef64f2eaa93b",
   "metadata": {},
   "source": [
    "## Author :"
   ]
  },
  {
   "cell_type": "markdown",
   "id": "7f11d1cd-7348-4c6d-aebf-eedb98e994a6",
   "metadata": {
    "tags": []
   },
   "source": [
    "Anushka Yeole"
   ]
  },
  {
   "cell_type": "code",
   "execution_count": null,
   "id": "c87d2bed-fd53-4258-84e0-7572c64529b2",
   "metadata": {},
   "outputs": [],
   "source": []
  }
 ],
 "metadata": {
  "kernelspec": {
   "display_name": "Python",
   "language": "python",
   "name": "conda-env-python-py"
  },
  "language_info": {
   "codemirror_mode": {
    "name": "ipython",
    "version": 3
   },
   "file_extension": ".py",
   "mimetype": "text/x-python",
   "name": "python",
   "nbconvert_exporter": "python",
   "pygments_lexer": "ipython3",
   "version": "3.7.12"
  }
 },
 "nbformat": 4,
 "nbformat_minor": 5
}
